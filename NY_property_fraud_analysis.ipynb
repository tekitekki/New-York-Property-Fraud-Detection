{
 "cells": [
  {
   "cell_type": "code",
   "execution_count": 1,
   "id": "462dcb0a-07d1-4f87-a9f8-dc8461d3fb05",
   "metadata": {},
   "outputs": [],
   "source": [
    "import pandas as pd\n",
    "import numpy as np\n",
    "import seaborn as sns\n",
    "import matplotlib.pyplot as plt\n",
    "from sklearn.decomposition import PCA\n",
    "from sklearn.neural_network import MLPRegressor\n",
    "\n",
    "import warnings\n",
    "warnings.simplefilter(action=\"ignore\")"
   ]
  },
  {
   "cell_type": "code",
   "execution_count": 2,
   "id": "dc47350c",
   "metadata": {},
   "outputs": [],
   "source": [
    "df = pd.read_csv('NY property data.csv')"
   ]
  },
  {
   "cell_type": "markdown",
   "id": "46884b8d",
   "metadata": {},
   "source": [
    "# 1. Remove Some Records That We’re Not Interested In"
   ]
  },
  {
   "cell_type": "code",
   "execution_count": 3,
   "id": "84bd3cd7",
   "metadata": {},
   "outputs": [
    {
     "data": {
      "text/plain": [
       "['PARKCHESTER PRESERVAT',\n",
       " 'PARKS AND RECREATION',\n",
       " 'DCAS',\n",
       " 'HOUSING PRESERVATION',\n",
       " 'CITY OF NEW YORK',\n",
       " 'DEPT OF ENVIRONMENTAL',\n",
       " 'BOARD OF EDUCATION',\n",
       " 'NEW YORK CITY HOUSING',\n",
       " 'CNY/NYCTA',\n",
       " 'NYC HOUSING PARTNERSH',\n",
       " 'YORKVILLE TOWERS ASSO',\n",
       " 'DEPARTMENT OF BUSINES',\n",
       " 'DEPT OF TRANSPORTATIO',\n",
       " 'MTA/LIRR',\n",
       " 'PARCKHESTER PRESERVAT',\n",
       " 'MH RESIDENTIAL 1, LLC',\n",
       " '434 M LLC',\n",
       " 'LINCOLN PLAZA ASSOCIA',\n",
       " 'DEUTSCHE BANK NATIONA',\n",
       " '561 11TH AVENUE TMG L']"
      ]
     },
     "execution_count": 3,
     "metadata": {},
     "output_type": "execute_result"
    }
   ],
   "source": [
    "remove_list = df[\"OWNER\"].value_counts().head(20).index.tolist() \n",
    "remove_list"
   ]
  },
  {
   "cell_type": "code",
   "execution_count": 4,
   "id": "5f503ba1",
   "metadata": {},
   "outputs": [],
   "source": [
    "remove_list.remove('YORKVILLE TOWERS ASSO') \n",
    "remove_list.remove('434 M LLC')\n",
    "remove_list.remove('DEUTSCHE BANK NATIONA') \n",
    "remove_list.remove('561 11TH AVENUE TMG L') \n",
    "remove_list.append('UNITED STATES OF AMER') \n",
    "remove_list.append('U S GOVERNMENT OWNRD') \n",
    "remove_list.append('THE CITY OF NEW YORK') \n",
    "remove_list.append('NYS URBAN DEVELOPMENT') \n",
    "remove_list.append('NYS DEPT OF ENVIRONME') \n",
    "remove_list.append('CULTURAL AFFAIRS')\n",
    "remove_list.append('DEPT OF GENERAL SERVI') \n",
    "remove_list.append('DEPT RE-CITY OF NY')\n",
    "remove_list.append('NY STATE PUBLIC WORKS') \n",
    "remove_list.append('NYC DEPT OF HIGHWAYS') \n",
    "remove_list.append(\"NYC DEP'T OF HIGHWAYS\") \n",
    "remove_list.append('CITY WIDE ADMINISTRAT') \n",
    "remove_list.append('DEPT OF PUBLIC WORKS') \n",
    "remove_list.append('NEW YORK CITY')\n",
    "remove_list.append('THE PORT OFNY & NJ') \n",
    "remove_list.append('NYC DEPT OF PUB WORKS') \n",
    "remove_list.append('NEW YORK STATE DEPART') \n",
    "remove_list.append('CITY AND NON-CITY OWN')"
   ]
  },
  {
   "cell_type": "code",
   "execution_count": 5,
   "id": "610e2289",
   "metadata": {},
   "outputs": [
    {
     "data": {
      "text/plain": [
       "(1046516, 32)"
      ]
     },
     "execution_count": 5,
     "metadata": {},
     "output_type": "execute_result"
    }
   ],
   "source": [
    "property_data = df[-df['OWNER'].isin(remove_list)].reset_index(drop=True)\n",
    "property_data.shape"
   ]
  },
  {
   "cell_type": "code",
   "execution_count": 6,
   "id": "559358d1",
   "metadata": {},
   "outputs": [
    {
     "data": {
      "text/plain": [
       "(1070994, 32)"
      ]
     },
     "execution_count": 6,
     "metadata": {},
     "output_type": "execute_result"
    }
   ],
   "source": [
    "df.shape"
   ]
  },
  {
   "cell_type": "code",
   "execution_count": 7,
   "id": "281e2867",
   "metadata": {},
   "outputs": [
    {
     "data": {
      "text/plain": [
       "24478"
      ]
     },
     "execution_count": 7,
     "metadata": {},
     "output_type": "execute_result"
    }
   ],
   "source": [
    "len(df) - len(property_data)"
   ]
  },
  {
   "cell_type": "markdown",
   "id": "a4c20201",
   "metadata": {},
   "source": [
    "# 2. Fill in the missing ZIPs"
   ]
  },
  {
   "cell_type": "markdown",
   "id": "d7617b3a",
   "metadata": {},
   "source": [
    "There are 2.8% null values."
   ]
  },
  {
   "cell_type": "code",
   "execution_count": 8,
   "id": "a8734d06",
   "metadata": {},
   "outputs": [
    {
     "data": {
      "text/plain": [
       "21537"
      ]
     },
     "execution_count": 8,
     "metadata": {},
     "output_type": "execute_result"
    }
   ],
   "source": [
    "missing_zips = np.where(pd.isnull(property_data['ZIP']))[0]\n",
    "len(missing_zips)"
   ]
  },
  {
   "cell_type": "code",
   "execution_count": 9,
   "id": "24e241ed",
   "metadata": {},
   "outputs": [],
   "source": [
    "for i in range(len(missing_zips)):\n",
    "    if property_data.loc[missing_zips[i]+1,'ZIP'] == property_data.loc[missing_zips[i]-1,'ZIP']:\n",
    "        property_data.loc[missing_zips[i],'ZIP'] = property_data.loc[missing_zips[i]-1,'ZIP']"
   ]
  },
  {
   "cell_type": "code",
   "execution_count": 10,
   "id": "a1526744",
   "metadata": {},
   "outputs": [
    {
     "data": {
      "text/plain": [
       "10114"
      ]
     },
     "execution_count": 10,
     "metadata": {},
     "output_type": "execute_result"
    }
   ],
   "source": [
    "missing_zips = np.where(pd.isnull(property_data['ZIP']))[0]\n",
    "len(missing_zips)"
   ]
  },
  {
   "cell_type": "code",
   "execution_count": 11,
   "id": "6e9f0981",
   "metadata": {},
   "outputs": [],
   "source": [
    "for i in range(len(missing_zips)):\n",
    "    property_data.loc[missing_zips[i],'ZIP'] = property_data.loc[missing_zips[i]-1,'ZIP']"
   ]
  },
  {
   "cell_type": "code",
   "execution_count": 12,
   "id": "e45607d5",
   "metadata": {},
   "outputs": [
    {
     "data": {
      "text/plain": [
       "0"
      ]
     },
     "execution_count": 12,
     "metadata": {},
     "output_type": "execute_result"
    }
   ],
   "source": [
    "missing_zips = np.where(pd.isnull(property_data['ZIP']))[0]\n",
    "len(missing_zips)"
   ]
  },
  {
   "cell_type": "markdown",
   "id": "e462eade",
   "metadata": {},
   "source": [
    "# 3. Fill in missing FULLVAL, AVLAND, AVTOT"
   ]
  },
  {
   "cell_type": "markdown",
   "id": "82cc4613",
   "metadata": {},
   "source": [
    "They are 100% populated but have 1.21% of 0."
   ]
  },
  {
   "cell_type": "code",
   "execution_count": 13,
   "id": "d55fb9b3",
   "metadata": {},
   "outputs": [
    {
     "data": {
      "text/plain": [
       "TAXCLASS\n",
       "1     5.700050e+05\n",
       "1A    3.352942e+05\n",
       "1B    3.741718e+05\n",
       "1C    7.615359e+05\n",
       "1D    2.233614e+07\n",
       "2     8.005832e+05\n",
       "2A    8.639066e+05\n",
       "2B    1.254525e+06\n",
       "2C    7.723556e+05\n",
       "3     8.510005e+04\n",
       "4     2.713604e+06\n",
       "Name: FULLVAL, dtype: float64"
      ]
     },
     "execution_count": 13,
     "metadata": {},
     "output_type": "execute_result"
    }
   ],
   "source": [
    "temp = property_data[property_data['FULLVAL']!=0]\n",
    "mean_fullval = temp.groupby('TAXCLASS')['FULLVAL'].mean()\n",
    "mean_fullval"
   ]
  },
  {
   "cell_type": "code",
   "execution_count": 14,
   "id": "6ec2687d",
   "metadata": {},
   "outputs": [],
   "source": [
    "temp = property_data[property_data['AVLAND']!=0]\n",
    "mean_avland = temp.groupby('TAXCLASS')['AVLAND'].mean()"
   ]
  },
  {
   "cell_type": "code",
   "execution_count": 15,
   "id": "fcc654d6",
   "metadata": {},
   "outputs": [],
   "source": [
    "temp = property_data[property_data['AVTOT']!=0]\n",
    "mean_avtot = temp.groupby('TAXCLASS')['AVTOT'].mean()"
   ]
  },
  {
   "cell_type": "code",
   "execution_count": 16,
   "id": "8c4e7be0",
   "metadata": {},
   "outputs": [
    {
     "data": {
      "text/plain": [
       "array(['4', '2', '2A', '2C', '3', '2B', '1', '1A', '1C', '1B', '1D'],\n",
       "      dtype=object)"
      ]
     },
     "execution_count": 16,
     "metadata": {},
     "output_type": "execute_result"
    }
   ],
   "source": [
    "taxclass = property_data['TAXCLASS'].unique()\n",
    "taxclass"
   ]
  },
  {
   "cell_type": "code",
   "execution_count": 17,
   "id": "7ed86e8c",
   "metadata": {},
   "outputs": [],
   "source": [
    "for i in taxclass:\n",
    "    property_data.loc[(property_data['TAXCLASS'] == i) & (property_data['FULLVAL'] == 0),'FULLVAL'] = mean_fullval[i]\n",
    "    property_data.loc[(property_data['TAXCLASS'] == i) & (property_data['AVLAND'] == 0),'AVLAND'] = mean_avland[i]\n",
    "    property_data.loc[(property_data['TAXCLASS'] == i) & (property_data['AVTOT'] == 0),'AVTOT'] = mean_avtot[i]"
   ]
  },
  {
   "cell_type": "markdown",
   "id": "f688ee55",
   "metadata": {},
   "source": [
    "# 4. Fill in missing STORIES"
   ]
  },
  {
   "cell_type": "markdown",
   "id": "963f3c5e",
   "metadata": {},
   "source": [
    "STORIES is 94.75% populated, but has no zeros."
   ]
  },
  {
   "cell_type": "code",
   "execution_count": 18,
   "id": "832fd9b0",
   "metadata": {},
   "outputs": [
    {
     "data": {
      "text/plain": [
       "43684"
      ]
     },
     "execution_count": 18,
     "metadata": {},
     "output_type": "execute_result"
    }
   ],
   "source": [
    "temp = property_data[property_data['STORIES'].isnull()]\n",
    "len(temp)"
   ]
  },
  {
   "cell_type": "code",
   "execution_count": 19,
   "id": "64665203",
   "metadata": {},
   "outputs": [
    {
     "data": {
      "text/plain": [
       "1B    19000\n",
       "4     17768\n",
       "2      3434\n",
       "3      2398\n",
       "1       877\n",
       "2C      138\n",
       "2B       34\n",
       "2A       30\n",
       "1A        5\n",
       "Name: TAXCLASS, dtype: int64"
      ]
     },
     "execution_count": 19,
     "metadata": {},
     "output_type": "execute_result"
    }
   ],
   "source": [
    "temp['TAXCLASS'].value_counts()"
   ]
  },
  {
   "cell_type": "code",
   "execution_count": 20,
   "id": "6e68a618",
   "metadata": {},
   "outputs": [
    {
     "data": {
      "text/plain": [
       "TAXCLASS\n",
       "1      2.111631\n",
       "1A     1.656867\n",
       "1B     4.000000\n",
       "1C     3.052748\n",
       "1D     1.068966\n",
       "2     16.310549\n",
       "2A     2.844032\n",
       "2B     4.001635\n",
       "2C     4.745047\n",
       "3      1.000000\n",
       "4      5.517525\n",
       "Name: STORIES, dtype: float64"
      ]
     },
     "execution_count": 20,
     "metadata": {},
     "output_type": "execute_result"
    }
   ],
   "source": [
    "mean_stories = property_data.groupby('TAXCLASS')['STORIES'].mean()\n",
    "mean_stories"
   ]
  },
  {
   "cell_type": "code",
   "execution_count": 21,
   "id": "680b5f90",
   "metadata": {},
   "outputs": [],
   "source": [
    "for i in taxclass:\n",
    "    property_data.loc[(property_data['TAXCLASS'] == i) & (property_data['STORIES'].isnull()),'STORIES'] = mean_stories[i]"
   ]
  },
  {
   "cell_type": "markdown",
   "id": "99e01aa5",
   "metadata": {},
   "source": [
    "# 5. Fill in LTFRONT, LTDEPTH, BLDFRONT, BLDDEPTH"
   ]
  },
  {
   "cell_type": "markdown",
   "id": "3b1d6e4a",
   "metadata": {},
   "source": [
    "They don't have null values but have values such as 0 and 1 that don't make sense."
   ]
  },
  {
   "cell_type": "code",
   "execution_count": 22,
   "id": "6ef50448",
   "metadata": {},
   "outputs": [],
   "source": [
    "temp = property_data[property_data['LTFRONT'] > 1]\n",
    "mean_LTFRONT = temp.groupby('TAXCLASS')['LTFRONT'].mean()"
   ]
  },
  {
   "cell_type": "code",
   "execution_count": 23,
   "id": "04d45aa0",
   "metadata": {},
   "outputs": [],
   "source": [
    "temp = property_data[property_data['LTDEPTH'] > 1]\n",
    "mean_LTDEPTH = temp.groupby('TAXCLASS')['LTDEPTH'].mean()"
   ]
  },
  {
   "cell_type": "code",
   "execution_count": 24,
   "id": "e7d88f03",
   "metadata": {},
   "outputs": [],
   "source": [
    "temp = property_data[property_data['BLDFRONT'] > 1]\n",
    "mean_BLDFRONT = temp.groupby('TAXCLASS')['BLDFRONT'].mean()"
   ]
  },
  {
   "cell_type": "code",
   "execution_count": 25,
   "id": "a957f0ef",
   "metadata": {},
   "outputs": [],
   "source": [
    "temp = property_data[property_data['BLDDEPTH'] > 1]\n",
    "mean_BLDDEPTH = temp.groupby('TAXCLASS')['BLDDEPTH'].mean()"
   ]
  },
  {
   "cell_type": "code",
   "execution_count": 26,
   "id": "2c0f5174",
   "metadata": {},
   "outputs": [],
   "source": [
    "for i in taxclass:\n",
    "    property_data.loc[(property_data['TAXCLASS'] == i) & (property_data['LTFRONT'] <= 1),'LTFRONT'] = mean_LTFRONT[i]\n",
    "    property_data.loc[(property_data['TAXCLASS'] == i) & (property_data['LTDEPTH'] <= 1),'LTDEPTH'] = mean_LTDEPTH[i]\n",
    "    property_data.loc[(property_data['TAXCLASS'] == i) & (property_data['BLDFRONT'] <= 1),'BLDFRONT'] = mean_BLDFRONT[i]\n",
    "    property_data.loc[(property_data['TAXCLASS'] == i) & (property_data['BLDDEPTH'] <= 1),'BLDDEPTH'] = mean_BLDDEPTH[i]"
   ]
  },
  {
   "cell_type": "markdown",
   "id": "d98bc537",
   "metadata": {},
   "source": [
    "# 6. Make the Variables"
   ]
  },
  {
   "cell_type": "code",
   "execution_count": 27,
   "id": "6cd6b7e8",
   "metadata": {},
   "outputs": [],
   "source": [
    "data = property_data.copy()"
   ]
  },
  {
   "cell_type": "code",
   "execution_count": 28,
   "id": "35f36754",
   "metadata": {},
   "outputs": [],
   "source": [
    "data['ZIP'] = data['ZIP'].astype(str)\n",
    "data['ZIP3'] = data['ZIP'].str[:3]"
   ]
  },
  {
   "cell_type": "code",
   "execution_count": 29,
   "id": "f6c349c1",
   "metadata": {},
   "outputs": [],
   "source": [
    "data['ltsize'] = data['LTFRONT'] * data['LTDEPTH']\n",
    "data['bldsize'] = data['BLDFRONT'] * data['BLDDEPTH']\n",
    "data['bldvol'] = data['bldsize'] * data['STORIES']"
   ]
  },
  {
   "cell_type": "code",
   "execution_count": 30,
   "id": "771f76f9",
   "metadata": {},
   "outputs": [],
   "source": [
    "data['r1'] = data['FULLVAL'] / data['ltsize'] \n",
    "data['r2'] = data['FULLVAL'] / data['bldsize'] \n",
    "data['r3'] = data['FULLVAL'] / data['bldvol'] \n",
    "data['r4'] = data['AVLAND'] / data['ltsize']\n",
    "data['r5'] = data['AVLAND'] / data['bldsize'] \n",
    "data['r6'] = data['AVLAND']/ data['bldvol'] \n",
    "data['r7'] = data['AVTOT'] / data['ltsize']\n",
    "data['r8'] = data['AVTOT'] / data['bldsize'] \n",
    "data['r9'] = data['AVTOT'] / data['bldvol']"
   ]
  },
  {
   "cell_type": "code",
   "execution_count": 31,
   "id": "ceb84a8e",
   "metadata": {},
   "outputs": [],
   "source": [
    "rvars = data.columns[36:] # 9 columns\n",
    "for var in rvars:\n",
    "    data[var + 'inv'] = 1 / data[var]"
   ]
  },
  {
   "cell_type": "code",
   "execution_count": 32,
   "id": "ad779e36",
   "metadata": {},
   "outputs": [],
   "source": [
    "rvars = data.columns[36:] # 18 columns\n",
    "zip5_mean = data.groupby('ZIP')[rvars].mean()\n",
    "zip3_mean = data.groupby('ZIP3')[rvars].mean()\n",
    "taxclass_mean = data.groupby('TAXCLASS')[rvars].mean()\n",
    "borough_mean = data.groupby('BORO')[rvars].mean()"
   ]
  },
  {
   "cell_type": "code",
   "execution_count": 33,
   "id": "1d67bcd1",
   "metadata": {},
   "outputs": [],
   "source": [
    "data = data.join(zip5_mean, on = 'ZIP', rsuffix = '_zip5')\n",
    "data = data.join(zip3_mean, on = 'ZIP3', rsuffix = '_zip3')\n",
    "data = data.join(taxclass_mean, on = 'TAXCLASS', rsuffix = '_taxclass')\n",
    "data = data.join(borough_mean, on = 'BORO', rsuffix = '_boro')"
   ]
  },
  {
   "cell_type": "code",
   "execution_count": 34,
   "id": "f9cbf3e3",
   "metadata": {},
   "outputs": [],
   "source": [
    "rsuffix = ['_zip5','_zip3','_taxclass','_boro']\n",
    "for var in rvars:\n",
    "    for r in rsuffix:\n",
    "        data[var + r] = data[var] / data[var + r]"
   ]
  },
  {
   "cell_type": "code",
   "execution_count": 35,
   "id": "2a52ac6c",
   "metadata": {},
   "outputs": [],
   "source": [
    "rvars = data.columns[36:] # 90 columns\n",
    "stats = data[rvars].describe().transpose()\n",
    "#stats.to_csv('stats_on_vars.csv')"
   ]
  },
  {
   "cell_type": "code",
   "execution_count": 36,
   "id": "c1250a5e",
   "metadata": {},
   "outputs": [
    {
     "data": {
      "text/html": [
       "<div>\n",
       "<style scoped>\n",
       "    .dataframe tbody tr th:only-of-type {\n",
       "        vertical-align: middle;\n",
       "    }\n",
       "\n",
       "    .dataframe tbody tr th {\n",
       "        vertical-align: top;\n",
       "    }\n",
       "\n",
       "    .dataframe thead th {\n",
       "        text-align: right;\n",
       "    }\n",
       "</style>\n",
       "<table border=\"1\" class=\"dataframe\">\n",
       "  <thead>\n",
       "    <tr style=\"text-align: right;\">\n",
       "      <th></th>\n",
       "      <th>count</th>\n",
       "      <th>mean</th>\n",
       "      <th>std</th>\n",
       "      <th>min</th>\n",
       "      <th>25%</th>\n",
       "      <th>50%</th>\n",
       "      <th>75%</th>\n",
       "      <th>max</th>\n",
       "    </tr>\n",
       "  </thead>\n",
       "  <tbody>\n",
       "    <tr>\n",
       "      <th>r1</th>\n",
       "      <td>1046516.0</td>\n",
       "      <td>213.503808</td>\n",
       "      <td>528.509868</td>\n",
       "      <td>3.920017e-04</td>\n",
       "      <td>76.375353</td>\n",
       "      <td>152.916667</td>\n",
       "      <td>243.200000</td>\n",
       "      <td>135680.195265</td>\n",
       "    </tr>\n",
       "    <tr>\n",
       "      <th>r2</th>\n",
       "      <td>1046516.0</td>\n",
       "      <td>536.237504</td>\n",
       "      <td>1015.743970</td>\n",
       "      <td>7.470782e-04</td>\n",
       "      <td>212.235545</td>\n",
       "      <td>500.000000</td>\n",
       "      <td>683.891491</td>\n",
       "      <td>310742.524961</td>\n",
       "    </tr>\n",
       "    <tr>\n",
       "      <th>r3</th>\n",
       "      <td>1046516.0</td>\n",
       "      <td>243.931653</td>\n",
       "      <td>486.583927</td>\n",
       "      <td>8.983394e-05</td>\n",
       "      <td>82.741261</td>\n",
       "      <td>239.102564</td>\n",
       "      <td>336.257310</td>\n",
       "      <td>227500.000000</td>\n",
       "    </tr>\n",
       "    <tr>\n",
       "      <th>r4</th>\n",
       "      <td>1046516.0</td>\n",
       "      <td>10.453704</td>\n",
       "      <td>69.427805</td>\n",
       "      <td>8.333333e-06</td>\n",
       "      <td>2.356020</td>\n",
       "      <td>4.598000</td>\n",
       "      <td>7.225959</td>\n",
       "      <td>22032.314558</td>\n",
       "    </tr>\n",
       "    <tr>\n",
       "      <th>r5</th>\n",
       "      <td>1046516.0</td>\n",
       "      <td>22.710592</td>\n",
       "      <td>373.449262</td>\n",
       "      <td>2.096125e-04</td>\n",
       "      <td>6.215246</td>\n",
       "      <td>14.983333</td>\n",
       "      <td>20.287152</td>\n",
       "      <td>334842.138488</td>\n",
       "    </tr>\n",
       "    <tr>\n",
       "      <th>...</th>\n",
       "      <td>...</td>\n",
       "      <td>...</td>\n",
       "      <td>...</td>\n",
       "      <td>...</td>\n",
       "      <td>...</td>\n",
       "      <td>...</td>\n",
       "      <td>...</td>\n",
       "      <td>...</td>\n",
       "    </tr>\n",
       "    <tr>\n",
       "      <th>r5inv_boro</th>\n",
       "      <td>1046516.0</td>\n",
       "      <td>1.000000</td>\n",
       "      <td>19.450371</td>\n",
       "      <td>4.203214e-06</td>\n",
       "      <td>0.058377</td>\n",
       "      <td>0.080627</td>\n",
       "      <td>0.150912</td>\n",
       "      <td>3631.168214</td>\n",
       "    </tr>\n",
       "    <tr>\n",
       "      <th>r6inv_boro</th>\n",
       "      <td>1046516.0</td>\n",
       "      <td>1.000000</td>\n",
       "      <td>29.382102</td>\n",
       "      <td>4.480289e-07</td>\n",
       "      <td>0.013570</td>\n",
       "      <td>0.024501</td>\n",
       "      <td>0.055710</td>\n",
       "      <td>3229.769331</td>\n",
       "    </tr>\n",
       "    <tr>\n",
       "      <th>r7inv_boro</th>\n",
       "      <td>1046516.0</td>\n",
       "      <td>1.000000</td>\n",
       "      <td>62.640625</td>\n",
       "      <td>9.752543e-06</td>\n",
       "      <td>0.147765</td>\n",
       "      <td>0.303232</td>\n",
       "      <td>0.502178</td>\n",
       "      <td>59345.351446</td>\n",
       "    </tr>\n",
       "    <tr>\n",
       "      <th>r8inv_boro</th>\n",
       "      <td>1046516.0</td>\n",
       "      <td>1.000000</td>\n",
       "      <td>24.510354</td>\n",
       "      <td>4.381270e-06</td>\n",
       "      <td>0.084663</td>\n",
       "      <td>0.129699</td>\n",
       "      <td>0.207992</td>\n",
       "      <td>13798.782934</td>\n",
       "    </tr>\n",
       "    <tr>\n",
       "      <th>r9inv_boro</th>\n",
       "      <td>1046516.0</td>\n",
       "      <td>1.000000</td>\n",
       "      <td>21.462883</td>\n",
       "      <td>2.742325e-06</td>\n",
       "      <td>0.032932</td>\n",
       "      <td>0.052900</td>\n",
       "      <td>0.088046</td>\n",
       "      <td>10646.434070</td>\n",
       "    </tr>\n",
       "  </tbody>\n",
       "</table>\n",
       "<p>90 rows × 8 columns</p>\n",
       "</div>"
      ],
      "text/plain": [
       "                count        mean          std           min         25%  \\\n",
       "r1          1046516.0  213.503808   528.509868  3.920017e-04   76.375353   \n",
       "r2          1046516.0  536.237504  1015.743970  7.470782e-04  212.235545   \n",
       "r3          1046516.0  243.931653   486.583927  8.983394e-05   82.741261   \n",
       "r4          1046516.0   10.453704    69.427805  8.333333e-06    2.356020   \n",
       "r5          1046516.0   22.710592   373.449262  2.096125e-04    6.215246   \n",
       "...               ...         ...          ...           ...         ...   \n",
       "r5inv_boro  1046516.0    1.000000    19.450371  4.203214e-06    0.058377   \n",
       "r6inv_boro  1046516.0    1.000000    29.382102  4.480289e-07    0.013570   \n",
       "r7inv_boro  1046516.0    1.000000    62.640625  9.752543e-06    0.147765   \n",
       "r8inv_boro  1046516.0    1.000000    24.510354  4.381270e-06    0.084663   \n",
       "r9inv_boro  1046516.0    1.000000    21.462883  2.742325e-06    0.032932   \n",
       "\n",
       "                   50%         75%            max  \n",
       "r1          152.916667  243.200000  135680.195265  \n",
       "r2          500.000000  683.891491  310742.524961  \n",
       "r3          239.102564  336.257310  227500.000000  \n",
       "r4            4.598000    7.225959   22032.314558  \n",
       "r5           14.983333   20.287152  334842.138488  \n",
       "...                ...         ...            ...  \n",
       "r5inv_boro    0.080627    0.150912    3631.168214  \n",
       "r6inv_boro    0.024501    0.055710    3229.769331  \n",
       "r7inv_boro    0.303232    0.502178   59345.351446  \n",
       "r8inv_boro    0.129699    0.207992   13798.782934  \n",
       "r9inv_boro    0.052900    0.088046   10646.434070  \n",
       "\n",
       "[90 rows x 8 columns]"
      ]
     },
     "execution_count": 36,
     "metadata": {},
     "output_type": "execute_result"
    }
   ],
   "source": [
    "stats"
   ]
  },
  {
   "cell_type": "markdown",
   "id": "afd33393",
   "metadata": {},
   "source": [
    "# 7. Reduce dimensions via PCA"
   ]
  },
  {
   "cell_type": "code",
   "execution_count": 37,
   "id": "41d7b776",
   "metadata": {},
   "outputs": [],
   "source": [
    "save_record = data['RECORD']\n",
    "data = data.drop(columns = data.columns[:36])"
   ]
  },
  {
   "cell_type": "code",
   "execution_count": 38,
   "id": "ed0d65b2",
   "metadata": {},
   "outputs": [
    {
     "data": {
      "text/html": [
       "<div>\n",
       "<style scoped>\n",
       "    .dataframe tbody tr th:only-of-type {\n",
       "        vertical-align: middle;\n",
       "    }\n",
       "\n",
       "    .dataframe tbody tr th {\n",
       "        vertical-align: top;\n",
       "    }\n",
       "\n",
       "    .dataframe thead th {\n",
       "        text-align: right;\n",
       "    }\n",
       "</style>\n",
       "<table border=\"1\" class=\"dataframe\">\n",
       "  <thead>\n",
       "    <tr style=\"text-align: right;\">\n",
       "      <th></th>\n",
       "      <th>r1</th>\n",
       "      <th>r2</th>\n",
       "      <th>r3</th>\n",
       "      <th>r4</th>\n",
       "      <th>r5</th>\n",
       "      <th>r6</th>\n",
       "      <th>r7</th>\n",
       "      <th>r8</th>\n",
       "      <th>r9</th>\n",
       "      <th>r1inv</th>\n",
       "      <th>...</th>\n",
       "      <th>r9_boro</th>\n",
       "      <th>r1inv_boro</th>\n",
       "      <th>r2inv_boro</th>\n",
       "      <th>r3inv_boro</th>\n",
       "      <th>r4inv_boro</th>\n",
       "      <th>r5inv_boro</th>\n",
       "      <th>r6inv_boro</th>\n",
       "      <th>r7inv_boro</th>\n",
       "      <th>r8inv_boro</th>\n",
       "      <th>r9inv_boro</th>\n",
       "    </tr>\n",
       "  </thead>\n",
       "  <tbody>\n",
       "    <tr>\n",
       "      <th>count</th>\n",
       "      <td>1.046516e+06</td>\n",
       "      <td>1.046516e+06</td>\n",
       "      <td>1.046516e+06</td>\n",
       "      <td>1.046516e+06</td>\n",
       "      <td>1.046516e+06</td>\n",
       "      <td>1.046516e+06</td>\n",
       "      <td>1.046516e+06</td>\n",
       "      <td>1.046516e+06</td>\n",
       "      <td>1.046516e+06</td>\n",
       "      <td>1.046516e+06</td>\n",
       "      <td>...</td>\n",
       "      <td>1.046516e+06</td>\n",
       "      <td>1.046516e+06</td>\n",
       "      <td>1.046516e+06</td>\n",
       "      <td>1.046516e+06</td>\n",
       "      <td>1.046516e+06</td>\n",
       "      <td>1.046516e+06</td>\n",
       "      <td>1.046516e+06</td>\n",
       "      <td>1.046516e+06</td>\n",
       "      <td>1.046516e+06</td>\n",
       "      <td>1.046516e+06</td>\n",
       "    </tr>\n",
       "    <tr>\n",
       "      <th>mean</th>\n",
       "      <td>-4.987863e-14</td>\n",
       "      <td>-4.120539e-14</td>\n",
       "      <td>-4.213792e-15</td>\n",
       "      <td>-1.192801e-14</td>\n",
       "      <td>-1.523930e-15</td>\n",
       "      <td>6.895732e-16</td>\n",
       "      <td>-4.875373e-14</td>\n",
       "      <td>-2.858347e-15</td>\n",
       "      <td>-1.090882e-14</td>\n",
       "      <td>-5.867553e-15</td>\n",
       "      <td>...</td>\n",
       "      <td>2.007761e-15</td>\n",
       "      <td>1.238156e-15</td>\n",
       "      <td>-2.314096e-15</td>\n",
       "      <td>-6.055043e-16</td>\n",
       "      <td>-2.560382e-15</td>\n",
       "      <td>-7.841169e-15</td>\n",
       "      <td>2.958956e-15</td>\n",
       "      <td>3.110794e-16</td>\n",
       "      <td>-2.496063e-15</td>\n",
       "      <td>3.008599e-15</td>\n",
       "    </tr>\n",
       "    <tr>\n",
       "      <th>std</th>\n",
       "      <td>1.000000e+00</td>\n",
       "      <td>1.000000e+00</td>\n",
       "      <td>1.000000e+00</td>\n",
       "      <td>1.000000e+00</td>\n",
       "      <td>1.000000e+00</td>\n",
       "      <td>1.000000e+00</td>\n",
       "      <td>1.000000e+00</td>\n",
       "      <td>1.000000e+00</td>\n",
       "      <td>1.000000e+00</td>\n",
       "      <td>1.000000e+00</td>\n",
       "      <td>...</td>\n",
       "      <td>1.000000e+00</td>\n",
       "      <td>1.000000e+00</td>\n",
       "      <td>1.000000e+00</td>\n",
       "      <td>1.000000e+00</td>\n",
       "      <td>1.000000e+00</td>\n",
       "      <td>1.000000e+00</td>\n",
       "      <td>1.000000e+00</td>\n",
       "      <td>1.000000e+00</td>\n",
       "      <td>1.000000e+00</td>\n",
       "      <td>1.000000e+00</td>\n",
       "    </tr>\n",
       "    <tr>\n",
       "      <th>min</th>\n",
       "      <td>-4.039724e-01</td>\n",
       "      <td>-5.279251e-01</td>\n",
       "      <td>-5.013145e-01</td>\n",
       "      <td>-1.505693e-01</td>\n",
       "      <td>-6.081250e-02</td>\n",
       "      <td>-5.747917e-02</td>\n",
       "      <td>-1.328478e-01</td>\n",
       "      <td>-5.410804e-02</td>\n",
       "      <td>-5.868685e-02</td>\n",
       "      <td>-1.970110e-02</td>\n",
       "      <td>...</td>\n",
       "      <td>-6.391883e-02</td>\n",
       "      <td>-1.759386e-02</td>\n",
       "      <td>-2.268715e-02</td>\n",
       "      <td>-2.076027e-02</td>\n",
       "      <td>-1.960607e-02</td>\n",
       "      <td>-5.141268e-02</td>\n",
       "      <td>-3.403431e-02</td>\n",
       "      <td>-1.596393e-02</td>\n",
       "      <td>-4.079891e-02</td>\n",
       "      <td>-4.659194e-02</td>\n",
       "    </tr>\n",
       "    <tr>\n",
       "      <th>25%</th>\n",
       "      <td>-2.594624e-01</td>\n",
       "      <td>-3.189799e-01</td>\n",
       "      <td>-3.312695e-01</td>\n",
       "      <td>-1.166346e-01</td>\n",
       "      <td>-4.417025e-02</td>\n",
       "      <td>-4.582967e-02</td>\n",
       "      <td>-1.066404e-01</td>\n",
       "      <td>-3.531737e-02</td>\n",
       "      <td>-3.673350e-02</td>\n",
       "      <td>-1.897378e-02</td>\n",
       "      <td>...</td>\n",
       "      <td>-3.880826e-02</td>\n",
       "      <td>-1.673407e-02</td>\n",
       "      <td>-2.201533e-02</td>\n",
       "      <td>-2.061962e-02</td>\n",
       "      <td>-1.797203e-02</td>\n",
       "      <td>-4.841156e-02</td>\n",
       "      <td>-3.357250e-02</td>\n",
       "      <td>-1.360515e-02</td>\n",
       "      <td>-3.734491e-02</td>\n",
       "      <td>-4.505767e-02</td>\n",
       "    </tr>\n",
       "    <tr>\n",
       "      <th>50%</th>\n",
       "      <td>-1.146377e-01</td>\n",
       "      <td>-3.567583e-02</td>\n",
       "      <td>-9.924473e-03</td>\n",
       "      <td>-8.434234e-02</td>\n",
       "      <td>-2.069159e-02</td>\n",
       "      <td>-1.627775e-02</td>\n",
       "      <td>-9.028477e-02</td>\n",
       "      <td>-2.510215e-02</td>\n",
       "      <td>-1.948221e-02</td>\n",
       "      <td>-1.854359e-02</td>\n",
       "      <td>...</td>\n",
       "      <td>-2.062950e-02</td>\n",
       "      <td>-1.627134e-02</td>\n",
       "      <td>-2.169611e-02</td>\n",
       "      <td>-2.053040e-02</td>\n",
       "      <td>-1.682510e-02</td>\n",
       "      <td>-4.726764e-02</td>\n",
       "      <td>-3.320045e-02</td>\n",
       "      <td>-1.112325e-02</td>\n",
       "      <td>-3.550747e-02</td>\n",
       "      <td>-4.412737e-02</td>\n",
       "    </tr>\n",
       "    <tr>\n",
       "      <th>75%</th>\n",
       "      <td>5.618853e-02</td>\n",
       "      <td>1.453654e-01</td>\n",
       "      <td>1.897425e-01</td>\n",
       "      <td>-4.649066e-02</td>\n",
       "      <td>-6.489343e-03</td>\n",
       "      <td>4.138601e-04</td>\n",
       "      <td>-6.574734e-02</td>\n",
       "      <td>-1.540155e-02</td>\n",
       "      <td>-4.344369e-03</td>\n",
       "      <td>-1.738226e-02</td>\n",
       "      <td>...</td>\n",
       "      <td>-3.517677e-03</td>\n",
       "      <td>-1.503698e-02</td>\n",
       "      <td>-2.064109e-02</td>\n",
       "      <td>-2.021859e-02</td>\n",
       "      <td>-1.448689e-02</td>\n",
       "      <td>-4.365410e-02</td>\n",
       "      <td>-3.213827e-02</td>\n",
       "      <td>-7.947278e-03</td>\n",
       "      <td>-3.231318e-02</td>\n",
       "      <td>-4.248983e-02</td>\n",
       "    </tr>\n",
       "    <tr>\n",
       "      <th>max</th>\n",
       "      <td>2.563182e+02</td>\n",
       "      <td>3.053981e+02</td>\n",
       "      <td>4.670439e+02</td>\n",
       "      <td>3.171908e+02</td>\n",
       "      <td>8.965594e+02</td>\n",
       "      <td>6.432875e+02</td>\n",
       "      <td>3.142499e+02</td>\n",
       "      <td>9.373068e+02</td>\n",
       "      <td>8.985515e+02</td>\n",
       "      <td>4.520239e+02</td>\n",
       "      <td>...</td>\n",
       "      <td>8.910096e+02</td>\n",
       "      <td>6.645625e+02</td>\n",
       "      <td>7.831392e+02</td>\n",
       "      <td>8.003317e+02</td>\n",
       "      <td>9.464894e+02</td>\n",
       "      <td>1.866375e+02</td>\n",
       "      <td>1.098890e+02</td>\n",
       "      <td>9.473780e+02</td>\n",
       "      <td>5.629369e+02</td>\n",
       "      <td>4.959927e+02</td>\n",
       "    </tr>\n",
       "  </tbody>\n",
       "</table>\n",
       "<p>8 rows × 90 columns</p>\n",
       "</div>"
      ],
      "text/plain": [
       "                 r1            r2            r3            r4            r5  \\\n",
       "count  1.046516e+06  1.046516e+06  1.046516e+06  1.046516e+06  1.046516e+06   \n",
       "mean  -4.987863e-14 -4.120539e-14 -4.213792e-15 -1.192801e-14 -1.523930e-15   \n",
       "std    1.000000e+00  1.000000e+00  1.000000e+00  1.000000e+00  1.000000e+00   \n",
       "min   -4.039724e-01 -5.279251e-01 -5.013145e-01 -1.505693e-01 -6.081250e-02   \n",
       "25%   -2.594624e-01 -3.189799e-01 -3.312695e-01 -1.166346e-01 -4.417025e-02   \n",
       "50%   -1.146377e-01 -3.567583e-02 -9.924473e-03 -8.434234e-02 -2.069159e-02   \n",
       "75%    5.618853e-02  1.453654e-01  1.897425e-01 -4.649066e-02 -6.489343e-03   \n",
       "max    2.563182e+02  3.053981e+02  4.670439e+02  3.171908e+02  8.965594e+02   \n",
       "\n",
       "                 r6            r7            r8            r9         r1inv  \\\n",
       "count  1.046516e+06  1.046516e+06  1.046516e+06  1.046516e+06  1.046516e+06   \n",
       "mean   6.895732e-16 -4.875373e-14 -2.858347e-15 -1.090882e-14 -5.867553e-15   \n",
       "std    1.000000e+00  1.000000e+00  1.000000e+00  1.000000e+00  1.000000e+00   \n",
       "min   -5.747917e-02 -1.328478e-01 -5.410804e-02 -5.868685e-02 -1.970110e-02   \n",
       "25%   -4.582967e-02 -1.066404e-01 -3.531737e-02 -3.673350e-02 -1.897378e-02   \n",
       "50%   -1.627775e-02 -9.028477e-02 -2.510215e-02 -1.948221e-02 -1.854359e-02   \n",
       "75%    4.138601e-04 -6.574734e-02 -1.540155e-02 -4.344369e-03 -1.738226e-02   \n",
       "max    6.432875e+02  3.142499e+02  9.373068e+02  8.985515e+02  4.520239e+02   \n",
       "\n",
       "       ...       r9_boro    r1inv_boro    r2inv_boro    r3inv_boro  \\\n",
       "count  ...  1.046516e+06  1.046516e+06  1.046516e+06  1.046516e+06   \n",
       "mean   ...  2.007761e-15  1.238156e-15 -2.314096e-15 -6.055043e-16   \n",
       "std    ...  1.000000e+00  1.000000e+00  1.000000e+00  1.000000e+00   \n",
       "min    ... -6.391883e-02 -1.759386e-02 -2.268715e-02 -2.076027e-02   \n",
       "25%    ... -3.880826e-02 -1.673407e-02 -2.201533e-02 -2.061962e-02   \n",
       "50%    ... -2.062950e-02 -1.627134e-02 -2.169611e-02 -2.053040e-02   \n",
       "75%    ... -3.517677e-03 -1.503698e-02 -2.064109e-02 -2.021859e-02   \n",
       "max    ...  8.910096e+02  6.645625e+02  7.831392e+02  8.003317e+02   \n",
       "\n",
       "         r4inv_boro    r5inv_boro    r6inv_boro    r7inv_boro    r8inv_boro  \\\n",
       "count  1.046516e+06  1.046516e+06  1.046516e+06  1.046516e+06  1.046516e+06   \n",
       "mean  -2.560382e-15 -7.841169e-15  2.958956e-15  3.110794e-16 -2.496063e-15   \n",
       "std    1.000000e+00  1.000000e+00  1.000000e+00  1.000000e+00  1.000000e+00   \n",
       "min   -1.960607e-02 -5.141268e-02 -3.403431e-02 -1.596393e-02 -4.079891e-02   \n",
       "25%   -1.797203e-02 -4.841156e-02 -3.357250e-02 -1.360515e-02 -3.734491e-02   \n",
       "50%   -1.682510e-02 -4.726764e-02 -3.320045e-02 -1.112325e-02 -3.550747e-02   \n",
       "75%   -1.448689e-02 -4.365410e-02 -3.213827e-02 -7.947278e-03 -3.231318e-02   \n",
       "max    9.464894e+02  1.866375e+02  1.098890e+02  9.473780e+02  5.629369e+02   \n",
       "\n",
       "         r9inv_boro  \n",
       "count  1.046516e+06  \n",
       "mean   3.008599e-15  \n",
       "std    1.000000e+00  \n",
       "min   -4.659194e-02  \n",
       "25%   -4.505767e-02  \n",
       "50%   -4.412737e-02  \n",
       "75%   -4.248983e-02  \n",
       "max    4.959927e+02  \n",
       "\n",
       "[8 rows x 90 columns]"
      ]
     },
     "execution_count": 38,
     "metadata": {},
     "output_type": "execute_result"
    }
   ],
   "source": [
    "data_zs = (data - data.mean()) / data.std()\n",
    "data_zs.describe()"
   ]
  },
  {
   "cell_type": "code",
   "execution_count": 39,
   "id": "933cf77a",
   "metadata": {},
   "outputs": [
    {
     "data": {
      "text/plain": [
       "<matplotlib.lines.Line2D at 0xfffefd7bbca0>"
      ]
     },
     "execution_count": 39,
     "metadata": {},
     "output_type": "execute_result"
    },
    {
     "data": {
      "image/png": "[encoded data removed]",
      "text/plain": [
       "<Figure size 432x288 with 1 Axes>"
      ]
     },
     "metadata": {
      "needs_background": "light"
     },
     "output_type": "display_data"
    }
   ],
   "source": [
    "pca = PCA(n_components = .99, svd_solver = 'full')\n",
    "pca.fit(data_zs)\n",
    "plt.plot(pca.explained_variance_ratio_)\n",
    "plt.xlabel('Number of components minus 1')\n",
    "plt.ylabel('PC variance')\n",
    "plt.xticks(np.arange(0, 36, step=2))\n",
    "plt.axvline(x=6, linestyle='--')"
   ]
  },
  {
   "cell_type": "code",
   "execution_count": 40,
   "id": "ac3e2686",
   "metadata": {},
   "outputs": [
    {
     "data": {
      "text/plain": [
       "(0.0, 1.0)"
      ]
     },
     "execution_count": 40,
     "metadata": {},
     "output_type": "execute_result"
    },
    {
     "data": {
      "image/png": "[encoded data removed]",
      "text/plain": [
       "<Figure size 432x288 with 1 Axes>"
      ]
     },
     "metadata": {
      "needs_background": "light"
     },
     "output_type": "display_data"
    }
   ],
   "source": [
    "plt.xlabel('Number of components minus 1')\n",
    "plt.plot(np.cumsum(pca.explained_variance_ratio_))\n",
    "plt.ylabel('PC cumulative variance')\n",
    "plt.yticks(np.arange(0.05, 1.1, step=.1))\n",
    "plt.xticks(np.arange(0, 36, step=2))\n",
    "plt.axvline(x=6, linestyle='--')\n",
    "plt.ylim(0,1)"
   ]
  },
  {
   "cell_type": "code",
   "execution_count": 41,
   "id": "cb05bfbe",
   "metadata": {},
   "outputs": [
    {
     "data": {
      "text/plain": [
       "7"
      ]
     },
     "execution_count": 41,
     "metadata": {},
     "output_type": "execute_result"
    }
   ],
   "source": [
    "pca = PCA(n_components = 7, svd_solver = 'full')\n",
    "princ_comps = pca.fit_transform(data_zs)\n",
    "pca.n_components_"
   ]
  },
  {
   "cell_type": "code",
   "execution_count": 42,
   "id": "55349096",
   "metadata": {
    "scrolled": true
   },
   "outputs": [
    {
     "data": {
      "text/html": [
       "<div>\n",
       "<style scoped>\n",
       "    .dataframe tbody tr th:only-of-type {\n",
       "        vertical-align: middle;\n",
       "    }\n",
       "\n",
       "    .dataframe tbody tr th {\n",
       "        vertical-align: top;\n",
       "    }\n",
       "\n",
       "    .dataframe thead th {\n",
       "        text-align: right;\n",
       "    }\n",
       "</style>\n",
       "<table border=\"1\" class=\"dataframe\">\n",
       "  <thead>\n",
       "    <tr style=\"text-align: right;\">\n",
       "      <th></th>\n",
       "      <th>PC1</th>\n",
       "      <th>PC2</th>\n",
       "      <th>PC3</th>\n",
       "      <th>PC4</th>\n",
       "      <th>PC5</th>\n",
       "      <th>PC6</th>\n",
       "      <th>PC7</th>\n",
       "    </tr>\n",
       "  </thead>\n",
       "  <tbody>\n",
       "    <tr>\n",
       "      <th>count</th>\n",
       "      <td>1.046516e+06</td>\n",
       "      <td>1.046516e+06</td>\n",
       "      <td>1.046516e+06</td>\n",
       "      <td>1.046516e+06</td>\n",
       "      <td>1.046516e+06</td>\n",
       "      <td>1.046516e+06</td>\n",
       "      <td>1.046516e+06</td>\n",
       "    </tr>\n",
       "    <tr>\n",
       "      <th>mean</th>\n",
       "      <td>-3.674173e-17</td>\n",
       "      <td>-7.219090e-17</td>\n",
       "      <td>-2.099865e-16</td>\n",
       "      <td>8.099080e-17</td>\n",
       "      <td>-1.622185e-16</td>\n",
       "      <td>2.384340e-16</td>\n",
       "      <td>1.823951e-16</td>\n",
       "    </tr>\n",
       "    <tr>\n",
       "      <th>std</th>\n",
       "      <td>1.000000e+00</td>\n",
       "      <td>1.000000e+00</td>\n",
       "      <td>1.000000e+00</td>\n",
       "      <td>1.000000e+00</td>\n",
       "      <td>1.000000e+00</td>\n",
       "      <td>1.000000e+00</td>\n",
       "      <td>1.000000e+00</td>\n",
       "    </tr>\n",
       "    <tr>\n",
       "      <th>min</th>\n",
       "      <td>-5.821852e+01</td>\n",
       "      <td>-8.891024e-02</td>\n",
       "      <td>-2.399561e+02</td>\n",
       "      <td>-2.940419e+02</td>\n",
       "      <td>-3.364301e+02</td>\n",
       "      <td>-2.238167e+02</td>\n",
       "      <td>-2.821592e+02</td>\n",
       "    </tr>\n",
       "    <tr>\n",
       "      <th>25%</th>\n",
       "      <td>-1.033812e-01</td>\n",
       "      <td>-5.119081e-02</td>\n",
       "      <td>-1.555735e-01</td>\n",
       "      <td>-2.735354e-03</td>\n",
       "      <td>-8.111186e-02</td>\n",
       "      <td>-1.327432e-01</td>\n",
       "      <td>-8.786648e-02</td>\n",
       "    </tr>\n",
       "    <tr>\n",
       "      <th>50%</th>\n",
       "      <td>-1.722495e-02</td>\n",
       "      <td>-4.480539e-02</td>\n",
       "      <td>-6.019241e-02</td>\n",
       "      <td>2.607797e-03</td>\n",
       "      <td>4.683933e-03</td>\n",
       "      <td>-1.151279e-02</td>\n",
       "      <td>-3.336247e-02</td>\n",
       "    </tr>\n",
       "    <tr>\n",
       "      <th>75%</th>\n",
       "      <td>4.002710e-02</td>\n",
       "      <td>-3.567613e-02</td>\n",
       "      <td>3.200520e-02</td>\n",
       "      <td>9.450733e-03</td>\n",
       "      <td>5.391875e-02</td>\n",
       "      <td>2.843840e-01</td>\n",
       "      <td>1.234761e-02</td>\n",
       "    </tr>\n",
       "    <tr>\n",
       "      <th>max</th>\n",
       "      <td>6.972967e+02</td>\n",
       "      <td>4.059682e+02</td>\n",
       "      <td>3.235610e+02</td>\n",
       "      <td>8.135371e+02</td>\n",
       "      <td>4.420073e+02</td>\n",
       "      <td>5.187210e+02</td>\n",
       "      <td>4.111819e+02</td>\n",
       "    </tr>\n",
       "  </tbody>\n",
       "</table>\n",
       "</div>"
      ],
      "text/plain": [
       "                PC1           PC2           PC3           PC4           PC5  \\\n",
       "count  1.046516e+06  1.046516e+06  1.046516e+06  1.046516e+06  1.046516e+06   \n",
       "mean  -3.674173e-17 -7.219090e-17 -2.099865e-16  8.099080e-17 -1.622185e-16   \n",
       "std    1.000000e+00  1.000000e+00  1.000000e+00  1.000000e+00  1.000000e+00   \n",
       "min   -5.821852e+01 -8.891024e-02 -2.399561e+02 -2.940419e+02 -3.364301e+02   \n",
       "25%   -1.033812e-01 -5.119081e-02 -1.555735e-01 -2.735354e-03 -8.111186e-02   \n",
       "50%   -1.722495e-02 -4.480539e-02 -6.019241e-02  2.607797e-03  4.683933e-03   \n",
       "75%    4.002710e-02 -3.567613e-02  3.200520e-02  9.450733e-03  5.391875e-02   \n",
       "max    6.972967e+02  4.059682e+02  3.235610e+02  8.135371e+02  4.420073e+02   \n",
       "\n",
       "                PC6           PC7  \n",
       "count  1.046516e+06  1.046516e+06  \n",
       "mean   2.384340e-16  1.823951e-16  \n",
       "std    1.000000e+00  1.000000e+00  \n",
       "min   -2.238167e+02 -2.821592e+02  \n",
       "25%   -1.327432e-01 -8.786648e-02  \n",
       "50%   -1.151279e-02 -3.336247e-02  \n",
       "75%    2.843840e-01  1.234761e-02  \n",
       "max    5.187210e+02  4.111819e+02  "
      ]
     },
     "execution_count": 42,
     "metadata": {},
     "output_type": "execute_result"
    }
   ],
   "source": [
    "data_pca = pd.DataFrame(princ_comps, columns = ['PC' + str(i) for i in range(1, pca.n_components_+1)])\n",
    "data_pca_zs = (data_pca - data_pca.mean()) / data_pca.std()\n",
    "data_pca_zs.describe()"
   ]
  },
  {
   "cell_type": "markdown",
   "id": "f9e803e3",
   "metadata": {},
   "source": [
    "# 8. Create fraud scores"
   ]
  },
  {
   "cell_type": "code",
   "execution_count": 43,
   "id": "f59dab92",
   "metadata": {},
   "outputs": [],
   "source": [
    "p1 = 2\n",
    "oop1 = 1/p1\n",
    "score1 = (((data_pca_zs).abs()**p1).sum(axis=1))**oop1"
   ]
  },
  {
   "cell_type": "code",
   "execution_count": 44,
   "id": "c186a30c",
   "metadata": {},
   "outputs": [
    {
     "data": {
      "text/plain": [
       "(0.1, 2088568.0377569061)"
      ]
     },
     "execution_count": 44,
     "metadata": {},
     "output_type": "execute_result"
    },
    {
     "data": {
      "image/png": "[encoded data removed]",
      "text/plain": [
       "<Figure size 432x288 with 1 Axes>"
      ]
     },
     "metadata": {
      "needs_background": "light"
     },
     "output_type": "display_data"
    }
   ],
   "source": [
    "plt.hist(score1, bins=100)\n",
    "plt.yscale('log')\n",
    "plt.ylim(ymin=.1)"
   ]
  },
  {
   "cell_type": "code",
   "execution_count": 45,
   "id": "4d0a39ac",
   "metadata": {},
   "outputs": [],
   "source": [
    "NNmodel = MLPRegressor(hidden_layer_sizes=(3),activation='logistic',max_iter=50,random_state=1)\n",
    "NNmodel.fit(data_pca_zs,data_pca_zs)\n",
    "pca_out = NNmodel.predict(data_pca_zs)\n",
    "error = pca_out - data_pca_zs\n",
    "p2 = 2\n",
    "oop2 = 1/p2\n",
    "score2 = ((error.abs()**p2).sum(axis=1))**oop2"
   ]
  },
  {
   "cell_type": "code",
   "execution_count": 46,
   "id": "492e6506",
   "metadata": {},
   "outputs": [
    {
     "data": {
      "text/plain": [
       "(0.1, 2091020.427275921)"
      ]
     },
     "execution_count": 46,
     "metadata": {},
     "output_type": "execute_result"
    },
    {
     "data": {
      "image/png": "[encoded data removed]",
      "text/plain": [
       "<Figure size 432x288 with 1 Axes>"
      ]
     },
     "metadata": {
      "needs_background": "light"
     },
     "output_type": "display_data"
    }
   ],
   "source": [
    "plt.hist(score2, bins=100)\n",
    "plt.yscale('log')\n",
    "plt.ylim(ymin=.1)"
   ]
  },
  {
   "cell_type": "code",
   "execution_count": 47,
   "id": "89ab7167",
   "metadata": {
    "scrolled": false
   },
   "outputs": [
    {
     "data": {
      "text/html": [
       "<div>\n",
       "<style scoped>\n",
       "    .dataframe tbody tr th:only-of-type {\n",
       "        vertical-align: middle;\n",
       "    }\n",
       "\n",
       "    .dataframe tbody tr th {\n",
       "        vertical-align: top;\n",
       "    }\n",
       "\n",
       "    .dataframe thead th {\n",
       "        text-align: right;\n",
       "    }\n",
       "</style>\n",
       "<table border=\"1\" class=\"dataframe\">\n",
       "  <thead>\n",
       "    <tr style=\"text-align: right;\">\n",
       "      <th></th>\n",
       "      <th>score1</th>\n",
       "      <th>score2</th>\n",
       "      <th>RECORD</th>\n",
       "      <th>score1 rank</th>\n",
       "      <th>score2 rank</th>\n",
       "      <th>final</th>\n",
       "    </tr>\n",
       "  </thead>\n",
       "  <tbody>\n",
       "    <tr>\n",
       "      <th>0</th>\n",
       "      <td>3.174454</td>\n",
       "      <td>0.722283</td>\n",
       "      <td>1</td>\n",
       "      <td>1033650.0</td>\n",
       "      <td>1022732.0</td>\n",
       "      <td>1028191.0</td>\n",
       "    </tr>\n",
       "    <tr>\n",
       "      <th>1</th>\n",
       "      <td>69.917070</td>\n",
       "      <td>43.001728</td>\n",
       "      <td>2</td>\n",
       "      <td>1046396.0</td>\n",
       "      <td>1046392.0</td>\n",
       "      <td>1046394.0</td>\n",
       "    </tr>\n",
       "    <tr>\n",
       "      <th>2</th>\n",
       "      <td>0.277335</td>\n",
       "      <td>0.079038</td>\n",
       "      <td>9</td>\n",
       "      <td>574151.0</td>\n",
       "      <td>487154.0</td>\n",
       "      <td>530652.5</td>\n",
       "    </tr>\n",
       "    <tr>\n",
       "      <th>3</th>\n",
       "      <td>0.476098</td>\n",
       "      <td>0.087728</td>\n",
       "      <td>10</td>\n",
       "      <td>754258.0</td>\n",
       "      <td>526218.0</td>\n",
       "      <td>640238.0</td>\n",
       "    </tr>\n",
       "    <tr>\n",
       "      <th>4</th>\n",
       "      <td>1.086139</td>\n",
       "      <td>0.211946</td>\n",
       "      <td>11</td>\n",
       "      <td>1004035.0</td>\n",
       "      <td>917356.0</td>\n",
       "      <td>960695.5</td>\n",
       "    </tr>\n",
       "    <tr>\n",
       "      <th>...</th>\n",
       "      <td>...</td>\n",
       "      <td>...</td>\n",
       "      <td>...</td>\n",
       "      <td>...</td>\n",
       "      <td>...</td>\n",
       "      <td>...</td>\n",
       "    </tr>\n",
       "    <tr>\n",
       "      <th>1046511</th>\n",
       "      <td>0.213344</td>\n",
       "      <td>0.055351</td>\n",
       "      <td>1070990</td>\n",
       "      <td>463420.0</td>\n",
       "      <td>332347.0</td>\n",
       "      <td>397883.5</td>\n",
       "    </tr>\n",
       "    <tr>\n",
       "      <th>1046512</th>\n",
       "      <td>0.294623</td>\n",
       "      <td>0.135485</td>\n",
       "      <td>1070991</td>\n",
       "      <td>594409.0</td>\n",
       "      <td>667019.0</td>\n",
       "      <td>630714.0</td>\n",
       "    </tr>\n",
       "    <tr>\n",
       "      <th>1046513</th>\n",
       "      <td>0.290824</td>\n",
       "      <td>0.086791</td>\n",
       "      <td>1070992</td>\n",
       "      <td>590194.0</td>\n",
       "      <td>522345.0</td>\n",
       "      <td>556269.5</td>\n",
       "    </tr>\n",
       "    <tr>\n",
       "      <th>1046514</th>\n",
       "      <td>0.357997</td>\n",
       "      <td>0.105422</td>\n",
       "      <td>1070993</td>\n",
       "      <td>654853.0</td>\n",
       "      <td>588337.0</td>\n",
       "      <td>621595.0</td>\n",
       "    </tr>\n",
       "    <tr>\n",
       "      <th>1046515</th>\n",
       "      <td>0.206344</td>\n",
       "      <td>0.058277</td>\n",
       "      <td>1070994</td>\n",
       "      <td>446318.0</td>\n",
       "      <td>357406.0</td>\n",
       "      <td>401862.0</td>\n",
       "    </tr>\n",
       "  </tbody>\n",
       "</table>\n",
       "<p>1046516 rows × 6 columns</p>\n",
       "</div>"
      ],
      "text/plain": [
       "            score1     score2   RECORD  score1 rank  score2 rank      final\n",
       "0         3.174454   0.722283        1    1033650.0    1022732.0  1028191.0\n",
       "1        69.917070  43.001728        2    1046396.0    1046392.0  1046394.0\n",
       "2         0.277335   0.079038        9     574151.0     487154.0   530652.5\n",
       "3         0.476098   0.087728       10     754258.0     526218.0   640238.0\n",
       "4         1.086139   0.211946       11    1004035.0     917356.0   960695.5\n",
       "...            ...        ...      ...          ...          ...        ...\n",
       "1046511   0.213344   0.055351  1070990     463420.0     332347.0   397883.5\n",
       "1046512   0.294623   0.135485  1070991     594409.0     667019.0   630714.0\n",
       "1046513   0.290824   0.086791  1070992     590194.0     522345.0   556269.5\n",
       "1046514   0.357997   0.105422  1070993     654853.0     588337.0   621595.0\n",
       "1046515   0.206344   0.058277  1070994     446318.0     357406.0   401862.0\n",
       "\n",
       "[1046516 rows x 6 columns]"
      ]
     },
     "execution_count": 47,
     "metadata": {},
     "output_type": "execute_result"
    }
   ],
   "source": [
    "scores = pd.DataFrame({'score1':score1, 'score2':score2})\n",
    "scores['RECORD'] = save_record\n",
    "scores['score1 rank'] = scores['score1'].rank()\n",
    "scores['score2 rank'] = scores['score2'].rank()\n",
    "scores['final'] = (.5*scores['score1 rank'] + .5*scores['score2 rank'])\n",
    "scores"
   ]
  },
  {
   "cell_type": "code",
   "execution_count": 48,
   "id": "47a7895d",
   "metadata": {},
   "outputs": [
    {
     "data": {
      "text/plain": [
       "<AxesSubplot:xlabel='final', ylabel='Density'>"
      ]
     },
     "execution_count": 48,
     "metadata": {},
     "output_type": "execute_result"
    },
    {
     "data": {
      "image/png": "[encoded data removed]",
      "text/plain": [
       "<Figure size 432x288 with 1 Axes>"
      ]
     },
     "metadata": {
      "needs_background": "light"
     },
     "output_type": "display_data"
    }
   ],
   "source": [
    "sns.distplot(scores['final'])"
   ]
  },
  {
   "cell_type": "code",
   "execution_count": 49,
   "id": "f12be7a5",
   "metadata": {},
   "outputs": [
    {
     "data": {
      "text/html": [
       "<div>\n",
       "<style scoped>\n",
       "    .dataframe tbody tr th:only-of-type {\n",
       "        vertical-align: middle;\n",
       "    }\n",
       "\n",
       "    .dataframe tbody tr th {\n",
       "        vertical-align: top;\n",
       "    }\n",
       "\n",
       "    .dataframe thead th {\n",
       "        text-align: right;\n",
       "    }\n",
       "</style>\n",
       "<table border=\"1\" class=\"dataframe\">\n",
       "  <thead>\n",
       "    <tr style=\"text-align: right;\">\n",
       "      <th></th>\n",
       "      <th>score1</th>\n",
       "      <th>score2</th>\n",
       "      <th>RECORD</th>\n",
       "      <th>score1 rank</th>\n",
       "      <th>score2 rank</th>\n",
       "      <th>final</th>\n",
       "      <th>BBLE</th>\n",
       "      <th>BORO</th>\n",
       "      <th>BLOCK</th>\n",
       "      <th>LOT</th>\n",
       "      <th>...</th>\n",
       "      <th>BLDFRONT</th>\n",
       "      <th>BLDDEPTH</th>\n",
       "      <th>AVLAND2</th>\n",
       "      <th>AVTOT2</th>\n",
       "      <th>EXLAND2</th>\n",
       "      <th>EXTOT2</th>\n",
       "      <th>EXCD2</th>\n",
       "      <th>PERIOD</th>\n",
       "      <th>YEAR</th>\n",
       "      <th>VALTYPE</th>\n",
       "    </tr>\n",
       "  </thead>\n",
       "  <tbody>\n",
       "    <tr>\n",
       "      <th>0</th>\n",
       "      <td>3.174454</td>\n",
       "      <td>0.722283</td>\n",
       "      <td>1</td>\n",
       "      <td>1033650.0</td>\n",
       "      <td>1022732.0</td>\n",
       "      <td>1028191.0</td>\n",
       "      <td>1000010101</td>\n",
       "      <td>1</td>\n",
       "      <td>1</td>\n",
       "      <td>101</td>\n",
       "      <td>...</td>\n",
       "      <td>0</td>\n",
       "      <td>0</td>\n",
       "      <td>3775500.0</td>\n",
       "      <td>8613000.0</td>\n",
       "      <td>3775500.0</td>\n",
       "      <td>8613000.0</td>\n",
       "      <td>NaN</td>\n",
       "      <td>FINAL</td>\n",
       "      <td>2010/11</td>\n",
       "      <td>AC-TR</td>\n",
       "    </tr>\n",
       "    <tr>\n",
       "      <th>1</th>\n",
       "      <td>69.917070</td>\n",
       "      <td>43.001728</td>\n",
       "      <td>2</td>\n",
       "      <td>1046396.0</td>\n",
       "      <td>1046392.0</td>\n",
       "      <td>1046394.0</td>\n",
       "      <td>1000010201</td>\n",
       "      <td>1</td>\n",
       "      <td>1</td>\n",
       "      <td>201</td>\n",
       "      <td>...</td>\n",
       "      <td>0</td>\n",
       "      <td>0</td>\n",
       "      <td>11111400.0</td>\n",
       "      <td>80690400.0</td>\n",
       "      <td>11111400.0</td>\n",
       "      <td>80690400.0</td>\n",
       "      <td>NaN</td>\n",
       "      <td>FINAL</td>\n",
       "      <td>2010/11</td>\n",
       "      <td>AC-TR</td>\n",
       "    </tr>\n",
       "    <tr>\n",
       "      <th>2</th>\n",
       "      <td>0.277335</td>\n",
       "      <td>0.079038</td>\n",
       "      <td>9</td>\n",
       "      <td>574151.0</td>\n",
       "      <td>487154.0</td>\n",
       "      <td>530652.5</td>\n",
       "      <td>1000041001</td>\n",
       "      <td>1</td>\n",
       "      <td>4</td>\n",
       "      <td>1001</td>\n",
       "      <td>...</td>\n",
       "      <td>0</td>\n",
       "      <td>0</td>\n",
       "      <td>636093.0</td>\n",
       "      <td>2049290.0</td>\n",
       "      <td>NaN</td>\n",
       "      <td>NaN</td>\n",
       "      <td>NaN</td>\n",
       "      <td>FINAL</td>\n",
       "      <td>2010/11</td>\n",
       "      <td>AC-TR</td>\n",
       "    </tr>\n",
       "    <tr>\n",
       "      <th>3</th>\n",
       "      <td>0.476098</td>\n",
       "      <td>0.087728</td>\n",
       "      <td>10</td>\n",
       "      <td>754258.0</td>\n",
       "      <td>526218.0</td>\n",
       "      <td>640238.0</td>\n",
       "      <td>1000041002</td>\n",
       "      <td>1</td>\n",
       "      <td>4</td>\n",
       "      <td>1002</td>\n",
       "      <td>...</td>\n",
       "      <td>0</td>\n",
       "      <td>0</td>\n",
       "      <td>919276.0</td>\n",
       "      <td>2961617.0</td>\n",
       "      <td>NaN</td>\n",
       "      <td>NaN</td>\n",
       "      <td>NaN</td>\n",
       "      <td>FINAL</td>\n",
       "      <td>2010/11</td>\n",
       "      <td>AC-TR</td>\n",
       "    </tr>\n",
       "    <tr>\n",
       "      <th>4</th>\n",
       "      <td>1.086139</td>\n",
       "      <td>0.211946</td>\n",
       "      <td>11</td>\n",
       "      <td>1004035.0</td>\n",
       "      <td>917356.0</td>\n",
       "      <td>960695.5</td>\n",
       "      <td>1000041003</td>\n",
       "      <td>1</td>\n",
       "      <td>4</td>\n",
       "      <td>1003</td>\n",
       "      <td>...</td>\n",
       "      <td>0</td>\n",
       "      <td>0</td>\n",
       "      <td>967500.0</td>\n",
       "      <td>5483912.0</td>\n",
       "      <td>NaN</td>\n",
       "      <td>NaN</td>\n",
       "      <td>NaN</td>\n",
       "      <td>FINAL</td>\n",
       "      <td>2010/11</td>\n",
       "      <td>AC-TR</td>\n",
       "    </tr>\n",
       "  </tbody>\n",
       "</table>\n",
       "<p>5 rows × 37 columns</p>\n",
       "</div>"
      ],
      "text/plain": [
       "      score1     score2  RECORD  score1 rank  score2 rank      final  \\\n",
       "0   3.174454   0.722283       1    1033650.0    1022732.0  1028191.0   \n",
       "1  69.917070  43.001728       2    1046396.0    1046392.0  1046394.0   \n",
       "2   0.277335   0.079038       9     574151.0     487154.0   530652.5   \n",
       "3   0.476098   0.087728      10     754258.0     526218.0   640238.0   \n",
       "4   1.086139   0.211946      11    1004035.0     917356.0   960695.5   \n",
       "\n",
       "         BBLE  BORO  BLOCK   LOT  ... BLDFRONT BLDDEPTH     AVLAND2  \\\n",
       "0  1000010101     1      1   101  ...        0        0   3775500.0   \n",
       "1  1000010201     1      1   201  ...        0        0  11111400.0   \n",
       "2  1000041001     1      4  1001  ...        0        0    636093.0   \n",
       "3  1000041002     1      4  1002  ...        0        0    919276.0   \n",
       "4  1000041003     1      4  1003  ...        0        0    967500.0   \n",
       "\n",
       "       AVTOT2     EXLAND2      EXTOT2 EXCD2  PERIOD     YEAR  VALTYPE  \n",
       "0   8613000.0   3775500.0   8613000.0   NaN   FINAL  2010/11    AC-TR  \n",
       "1  80690400.0  11111400.0  80690400.0   NaN   FINAL  2010/11    AC-TR  \n",
       "2   2049290.0         NaN         NaN   NaN   FINAL  2010/11    AC-TR  \n",
       "3   2961617.0         NaN         NaN   NaN   FINAL  2010/11    AC-TR  \n",
       "4   5483912.0         NaN         NaN   NaN   FINAL  2010/11    AC-TR  \n",
       "\n",
       "[5 rows x 37 columns]"
      ]
     },
     "execution_count": 49,
     "metadata": {},
     "output_type": "execute_result"
    }
   ],
   "source": [
    "NY_data_scores = scores.merge(df,on ='RECORD',how='left')\n",
    "NY_data_scores.head()"
   ]
  },
  {
   "cell_type": "code",
   "execution_count": 50,
   "id": "9dbd050b",
   "metadata": {},
   "outputs": [
    {
     "data": {
      "text/html": [
       "<div>\n",
       "<style scoped>\n",
       "    .dataframe tbody tr th:only-of-type {\n",
       "        vertical-align: middle;\n",
       "    }\n",
       "\n",
       "    .dataframe tbody tr th {\n",
       "        vertical-align: top;\n",
       "    }\n",
       "\n",
       "    .dataframe thead th {\n",
       "        text-align: right;\n",
       "    }\n",
       "</style>\n",
       "<table border=\"1\" class=\"dataframe\">\n",
       "  <thead>\n",
       "    <tr style=\"text-align: right;\">\n",
       "      <th></th>\n",
       "      <th>RECORD</th>\n",
       "      <th>BBLE</th>\n",
       "      <th>BORO</th>\n",
       "      <th>BLOCK</th>\n",
       "      <th>LOT</th>\n",
       "      <th>EASEMENT</th>\n",
       "      <th>OWNER</th>\n",
       "      <th>BLDGCL</th>\n",
       "      <th>TAXCLASS</th>\n",
       "      <th>LTFRONT</th>\n",
       "      <th>...</th>\n",
       "      <th>AVTOT2</th>\n",
       "      <th>EXLAND2</th>\n",
       "      <th>EXTOT2</th>\n",
       "      <th>EXCD2</th>\n",
       "      <th>PERIOD</th>\n",
       "      <th>YEAR</th>\n",
       "      <th>VALTYPE</th>\n",
       "      <th>score1 rank</th>\n",
       "      <th>score2 rank</th>\n",
       "      <th>final</th>\n",
       "    </tr>\n",
       "  </thead>\n",
       "  <tbody>\n",
       "    <tr>\n",
       "      <th>898718</th>\n",
       "      <td>917942</td>\n",
       "      <td>4142600001</td>\n",
       "      <td>4</td>\n",
       "      <td>14260</td>\n",
       "      <td>1</td>\n",
       "      <td>NaN</td>\n",
       "      <td>LOGAN PROPERTY, INC.</td>\n",
       "      <td>T1</td>\n",
       "      <td>4</td>\n",
       "      <td>4910</td>\n",
       "      <td>...</td>\n",
       "      <td>4.501180e+09</td>\n",
       "      <td>1.644454e+09</td>\n",
       "      <td>4.501180e+09</td>\n",
       "      <td>NaN</td>\n",
       "      <td>FINAL</td>\n",
       "      <td>2010/11</td>\n",
       "      <td>AC-TR</td>\n",
       "      <td>1046516.0</td>\n",
       "      <td>1046516.0</td>\n",
       "      <td>1046516.0</td>\n",
       "    </tr>\n",
       "    <tr>\n",
       "      <th>975385</th>\n",
       "      <td>996722</td>\n",
       "      <td>5029220125</td>\n",
       "      <td>5</td>\n",
       "      <td>2922</td>\n",
       "      <td>125</td>\n",
       "      <td>NaN</td>\n",
       "      <td>IMPERIAL COURT HOMEOW</td>\n",
       "      <td>V0</td>\n",
       "      <td>1B</td>\n",
       "      <td>300</td>\n",
       "      <td>...</td>\n",
       "      <td>NaN</td>\n",
       "      <td>NaN</td>\n",
       "      <td>NaN</td>\n",
       "      <td>NaN</td>\n",
       "      <td>FINAL</td>\n",
       "      <td>2010/11</td>\n",
       "      <td>AC-TR</td>\n",
       "      <td>1046515.0</td>\n",
       "      <td>1046515.0</td>\n",
       "      <td>1046515.0</td>\n",
       "    </tr>\n",
       "    <tr>\n",
       "      <th>674960</th>\n",
       "      <td>691986</td>\n",
       "      <td>4039160200</td>\n",
       "      <td>4</td>\n",
       "      <td>3916</td>\n",
       "      <td>200</td>\n",
       "      <td>NaN</td>\n",
       "      <td>TITAN SOUNDVIEW POINT</td>\n",
       "      <td>Z7</td>\n",
       "      <td>4</td>\n",
       "      <td>0</td>\n",
       "      <td>...</td>\n",
       "      <td>3.000000e+00</td>\n",
       "      <td>NaN</td>\n",
       "      <td>NaN</td>\n",
       "      <td>NaN</td>\n",
       "      <td>FINAL</td>\n",
       "      <td>2010/11</td>\n",
       "      <td>AC-TR</td>\n",
       "      <td>1046514.0</td>\n",
       "      <td>1046514.0</td>\n",
       "      <td>1046514.0</td>\n",
       "    </tr>\n",
       "    <tr>\n",
       "      <th>935946</th>\n",
       "      <td>956520</td>\n",
       "      <td>5006590012</td>\n",
       "      <td>5</td>\n",
       "      <td>659</td>\n",
       "      <td>12</td>\n",
       "      <td>NaN</td>\n",
       "      <td>TROMPETA RIZALINA</td>\n",
       "      <td>A1</td>\n",
       "      <td>1</td>\n",
       "      <td>25</td>\n",
       "      <td>...</td>\n",
       "      <td>NaN</td>\n",
       "      <td>NaN</td>\n",
       "      <td>NaN</td>\n",
       "      <td>NaN</td>\n",
       "      <td>FINAL</td>\n",
       "      <td>2010/11</td>\n",
       "      <td>AC-TR</td>\n",
       "      <td>1046513.0</td>\n",
       "      <td>1046513.0</td>\n",
       "      <td>1046513.0</td>\n",
       "    </tr>\n",
       "    <tr>\n",
       "      <th>701584</th>\n",
       "      <td>718883</td>\n",
       "      <td>4051251107</td>\n",
       "      <td>4</td>\n",
       "      <td>5125</td>\n",
       "      <td>1107</td>\n",
       "      <td>NaN</td>\n",
       "      <td>GARDEN VIEW LTD</td>\n",
       "      <td>R4</td>\n",
       "      <td>2</td>\n",
       "      <td>0</td>\n",
       "      <td>...</td>\n",
       "      <td>NaN</td>\n",
       "      <td>NaN</td>\n",
       "      <td>NaN</td>\n",
       "      <td>NaN</td>\n",
       "      <td>FINAL</td>\n",
       "      <td>2010/11</td>\n",
       "      <td>AC-TR</td>\n",
       "      <td>1046512.0</td>\n",
       "      <td>1046512.0</td>\n",
       "      <td>1046512.0</td>\n",
       "    </tr>\n",
       "  </tbody>\n",
       "</table>\n",
       "<p>5 rows × 35 columns</p>\n",
       "</div>"
      ],
      "text/plain": [
       "        RECORD        BBLE  BORO  BLOCK   LOT EASEMENT                  OWNER  \\\n",
       "898718  917942  4142600001     4  14260     1      NaN   LOGAN PROPERTY, INC.   \n",
       "975385  996722  5029220125     5   2922   125      NaN  IMPERIAL COURT HOMEOW   \n",
       "674960  691986  4039160200     4   3916   200      NaN  TITAN SOUNDVIEW POINT   \n",
       "935946  956520  5006590012     5    659    12      NaN      TROMPETA RIZALINA   \n",
       "701584  718883  4051251107     4   5125  1107      NaN        GARDEN VIEW LTD   \n",
       "\n",
       "       BLDGCL TAXCLASS  LTFRONT  ...        AVTOT2       EXLAND2  \\\n",
       "898718     T1        4     4910  ...  4.501180e+09  1.644454e+09   \n",
       "975385     V0       1B      300  ...           NaN           NaN   \n",
       "674960     Z7        4        0  ...  3.000000e+00           NaN   \n",
       "935946     A1        1       25  ...           NaN           NaN   \n",
       "701584     R4        2        0  ...           NaN           NaN   \n",
       "\n",
       "              EXTOT2  EXCD2  PERIOD     YEAR  VALTYPE  score1 rank  \\\n",
       "898718  4.501180e+09    NaN   FINAL  2010/11    AC-TR    1046516.0   \n",
       "975385           NaN    NaN   FINAL  2010/11    AC-TR    1046515.0   \n",
       "674960           NaN    NaN   FINAL  2010/11    AC-TR    1046514.0   \n",
       "935946           NaN    NaN   FINAL  2010/11    AC-TR    1046513.0   \n",
       "701584           NaN    NaN   FINAL  2010/11    AC-TR    1046512.0   \n",
       "\n",
       "        score2 rank      final  \n",
       "898718    1046516.0  1046516.0  \n",
       "975385    1046515.0  1046515.0  \n",
       "674960    1046514.0  1046514.0  \n",
       "935946    1046513.0  1046513.0  \n",
       "701584    1046512.0  1046512.0  \n",
       "\n",
       "[5 rows x 35 columns]"
      ]
     },
     "execution_count": 50,
     "metadata": {},
     "output_type": "execute_result"
    }
   ],
   "source": [
    "col_names = list(df.columns)\n",
    "col_names.extend(['score1 rank','score2 rank','final'])\n",
    "NY_data_scores = NY_data_scores[col_names]\n",
    "NY_data_scores = NY_data_scores.sort_values(by=['final','RECORD'], ascending=[False,True])\n",
    "NY_data_scores.head()"
   ]
  },
  {
   "cell_type": "code",
   "execution_count": 51,
   "id": "ca7221fb",
   "metadata": {},
   "outputs": [
    {
     "data": {
      "text/html": [
       "<div>\n",
       "<style scoped>\n",
       "    .dataframe tbody tr th:only-of-type {\n",
       "        vertical-align: middle;\n",
       "    }\n",
       "\n",
       "    .dataframe tbody tr th {\n",
       "        vertical-align: top;\n",
       "    }\n",
       "\n",
       "    .dataframe thead th {\n",
       "        text-align: right;\n",
       "    }\n",
       "</style>\n",
       "<table border=\"1\" class=\"dataframe\">\n",
       "  <thead>\n",
       "    <tr style=\"text-align: right;\">\n",
       "      <th></th>\n",
       "      <th>r1</th>\n",
       "      <th>r2</th>\n",
       "      <th>r3</th>\n",
       "      <th>r4</th>\n",
       "      <th>r5</th>\n",
       "      <th>r6</th>\n",
       "      <th>r7</th>\n",
       "      <th>r8</th>\n",
       "      <th>r9</th>\n",
       "      <th>r1inv</th>\n",
       "      <th>...</th>\n",
       "      <th>r5inv_boro</th>\n",
       "      <th>r6inv_boro</th>\n",
       "      <th>r7inv_boro</th>\n",
       "      <th>r8inv_boro</th>\n",
       "      <th>r9inv_boro</th>\n",
       "      <th>score1</th>\n",
       "      <th>score2</th>\n",
       "      <th>score1 rank</th>\n",
       "      <th>score2 rank</th>\n",
       "      <th>final</th>\n",
       "    </tr>\n",
       "    <tr>\n",
       "      <th>RECORD</th>\n",
       "      <th></th>\n",
       "      <th></th>\n",
       "      <th></th>\n",
       "      <th></th>\n",
       "      <th></th>\n",
       "      <th></th>\n",
       "      <th></th>\n",
       "      <th></th>\n",
       "      <th></th>\n",
       "      <th></th>\n",
       "      <th></th>\n",
       "      <th></th>\n",
       "      <th></th>\n",
       "      <th></th>\n",
       "      <th></th>\n",
       "      <th></th>\n",
       "      <th></th>\n",
       "      <th></th>\n",
       "      <th></th>\n",
       "      <th></th>\n",
       "      <th></th>\n",
       "    </tr>\n",
       "  </thead>\n",
       "  <tbody>\n",
       "    <tr>\n",
       "      <th>917942</th>\n",
       "      <td>0.756214</td>\n",
       "      <td>68.244847</td>\n",
       "      <td>47.353074</td>\n",
       "      <td>42.183218</td>\n",
       "      <td>896.559351</td>\n",
       "      <td>643.287451</td>\n",
       "      <td>37.825491</td>\n",
       "      <td>937.306848</td>\n",
       "      <td>898.551545</td>\n",
       "      <td>-0.019413</td>\n",
       "      <td>...</td>\n",
       "      <td>-0.051413</td>\n",
       "      <td>-0.034034</td>\n",
       "      <td>-0.015957</td>\n",
       "      <td>-0.040799</td>\n",
       "      <td>-0.046592</td>\n",
       "      <td>945.415431</td>\n",
       "      <td>942.097309</td>\n",
       "      <td>1046516.0</td>\n",
       "      <td>1046516.0</td>\n",
       "      <td>1046516.0</td>\n",
       "    </tr>\n",
       "    <tr>\n",
       "      <th>996722</th>\n",
       "      <td>-0.403969</td>\n",
       "      <td>-0.527850</td>\n",
       "      <td>-0.501275</td>\n",
       "      <td>-0.150569</td>\n",
       "      <td>-0.060812</td>\n",
       "      <td>-0.057479</td>\n",
       "      <td>-0.132848</td>\n",
       "      <td>-0.054108</td>\n",
       "      <td>-0.058687</td>\n",
       "      <td>85.037201</td>\n",
       "      <td>...</td>\n",
       "      <td>186.637477</td>\n",
       "      <td>109.888984</td>\n",
       "      <td>947.378019</td>\n",
       "      <td>172.493210</td>\n",
       "      <td>169.548877</td>\n",
       "      <td>932.664404</td>\n",
       "      <td>930.275705</td>\n",
       "      <td>1046515.0</td>\n",
       "      <td>1046515.0</td>\n",
       "      <td>1046515.0</td>\n",
       "    </tr>\n",
       "    <tr>\n",
       "      <th>691986</th>\n",
       "      <td>-0.403972</td>\n",
       "      <td>-0.527925</td>\n",
       "      <td>-0.501314</td>\n",
       "      <td>-0.150555</td>\n",
       "      <td>-0.060808</td>\n",
       "      <td>-0.057477</td>\n",
       "      <td>-0.132843</td>\n",
       "      <td>-0.054106</td>\n",
       "      <td>-0.058686</td>\n",
       "      <td>452.023906</td>\n",
       "      <td>...</td>\n",
       "      <td>38.691086</td>\n",
       "      <td>19.697979</td>\n",
       "      <td>54.051198</td>\n",
       "      <td>83.406063</td>\n",
       "      <td>109.655146</td>\n",
       "      <td>612.794094</td>\n",
       "      <td>611.414256</td>\n",
       "      <td>1046514.0</td>\n",
       "      <td>1046514.0</td>\n",
       "      <td>1046514.0</td>\n",
       "    </tr>\n",
       "    <tr>\n",
       "      <th>956520</th>\n",
       "      <td>-0.114376</td>\n",
       "      <td>-0.527888</td>\n",
       "      <td>-0.501288</td>\n",
       "      <td>-0.051803</td>\n",
       "      <td>-0.060808</td>\n",
       "      <td>-0.057476</td>\n",
       "      <td>-0.087301</td>\n",
       "      <td>-0.054106</td>\n",
       "      <td>-0.058685</td>\n",
       "      <td>-0.018545</td>\n",
       "      <td>...</td>\n",
       "      <td>33.285721</td>\n",
       "      <td>14.687725</td>\n",
       "      <td>-0.015104</td>\n",
       "      <td>22.964564</td>\n",
       "      <td>16.913565</td>\n",
       "      <td>553.562341</td>\n",
       "      <td>548.607051</td>\n",
       "      <td>1046513.0</td>\n",
       "      <td>1046513.0</td>\n",
       "      <td>1046513.0</td>\n",
       "    </tr>\n",
       "    <tr>\n",
       "      <th>718883</th>\n",
       "      <td>-0.403972</td>\n",
       "      <td>-0.527925</td>\n",
       "      <td>-0.501314</td>\n",
       "      <td>-0.063267</td>\n",
       "      <td>-0.035984</td>\n",
       "      <td>-0.053662</td>\n",
       "      <td>-0.132844</td>\n",
       "      <td>-0.054107</td>\n",
       "      <td>-0.058687</td>\n",
       "      <td>215.521641</td>\n",
       "      <td>...</td>\n",
       "      <td>-0.043609</td>\n",
       "      <td>-0.023949</td>\n",
       "      <td>77.324199</td>\n",
       "      <td>148.665338</td>\n",
       "      <td>495.992735</td>\n",
       "      <td>527.014185</td>\n",
       "      <td>519.818316</td>\n",
       "      <td>1046512.0</td>\n",
       "      <td>1046512.0</td>\n",
       "      <td>1046512.0</td>\n",
       "    </tr>\n",
       "  </tbody>\n",
       "</table>\n",
       "<p>5 rows × 95 columns</p>\n",
       "</div>"
      ],
      "text/plain": [
       "              r1         r2         r3         r4          r5          r6  \\\n",
       "RECORD                                                                      \n",
       "917942  0.756214  68.244847  47.353074  42.183218  896.559351  643.287451   \n",
       "996722 -0.403969  -0.527850  -0.501275  -0.150569   -0.060812   -0.057479   \n",
       "691986 -0.403972  -0.527925  -0.501314  -0.150555   -0.060808   -0.057477   \n",
       "956520 -0.114376  -0.527888  -0.501288  -0.051803   -0.060808   -0.057476   \n",
       "718883 -0.403972  -0.527925  -0.501314  -0.063267   -0.035984   -0.053662   \n",
       "\n",
       "               r7          r8          r9       r1inv  ...  r5inv_boro  \\\n",
       "RECORD                                                 ...               \n",
       "917942  37.825491  937.306848  898.551545   -0.019413  ...   -0.051413   \n",
       "996722  -0.132848   -0.054108   -0.058687   85.037201  ...  186.637477   \n",
       "691986  -0.132843   -0.054106   -0.058686  452.023906  ...   38.691086   \n",
       "956520  -0.087301   -0.054106   -0.058685   -0.018545  ...   33.285721   \n",
       "718883  -0.132844   -0.054107   -0.058687  215.521641  ...   -0.043609   \n",
       "\n",
       "        r6inv_boro  r7inv_boro  r8inv_boro  r9inv_boro      score1  \\\n",
       "RECORD                                                               \n",
       "917942   -0.034034   -0.015957   -0.040799   -0.046592  945.415431   \n",
       "996722  109.888984  947.378019  172.493210  169.548877  932.664404   \n",
       "691986   19.697979   54.051198   83.406063  109.655146  612.794094   \n",
       "956520   14.687725   -0.015104   22.964564   16.913565  553.562341   \n",
       "718883   -0.023949   77.324199  148.665338  495.992735  527.014185   \n",
       "\n",
       "            score2  score1 rank  score2 rank      final  \n",
       "RECORD                                                   \n",
       "917942  942.097309    1046516.0    1046516.0  1046516.0  \n",
       "996722  930.275705    1046515.0    1046515.0  1046515.0  \n",
       "691986  611.414256    1046514.0    1046514.0  1046514.0  \n",
       "956520  548.607051    1046513.0    1046513.0  1046513.0  \n",
       "718883  519.818316    1046512.0    1046512.0  1046512.0  \n",
       "\n",
       "[5 rows x 95 columns]"
      ]
     },
     "execution_count": 51,
     "metadata": {},
     "output_type": "execute_result"
    }
   ],
   "source": [
    "data_zs_scores = pd.concat([data_zs, scores], axis=1)\n",
    "data_zs_scores = data_zs_scores.sort_values(['final','RECORD'], ascending=[False,True])\n",
    "data_zs_scores = data_zs_scores.set_index('RECORD')\n",
    "data_zs_scores.head()"
   ]
  },
  {
   "cell_type": "code",
   "execution_count": 52,
   "id": "0b2003a8",
   "metadata": {},
   "outputs": [
    {
     "data": {
      "image/png": "[encoded data removed]",
      "text/plain": [
       "<Figure size 1440x720 with 2 Axes>"
      ]
     },
     "metadata": {
      "needs_background": "light"
     },
     "output_type": "display_data"
    }
   ],
   "source": [
    "data_heatmap = data_zs_scores.iloc[:,0:17].abs().head(20)\n",
    "plt.rcParams['figure.figsize'] = (20,10)\n",
    "ax = sns.heatmap(data_heatmap, center=0, vmin=0, vmax=50, cmap='Reds')\n",
    "ax.xaxis.tick_top()\n",
    "ax.xaxis.set_label_position('top')\n",
    "plt.xticks(rotation=90)\n",
    "plt.savefig('heatmap.png')"
   ]
  },
  {
   "cell_type": "code",
   "execution_count": 53,
   "id": "dcb23ddc",
   "metadata": {},
   "outputs": [
    {
     "data": {
      "image/png": "[encoded data removed]",
      "text/plain": [
       "<Figure size 1440x720 with 2 Axes>"
      ]
     },
     "metadata": {
      "needs_background": "light"
     },
     "output_type": "display_data"
    }
   ],
   "source": [
    "data_heatmap = data_zs_scores.iloc[:,0:90].abs().head(20)\n",
    "plt.rcParams['figure.figsize'] = (20,10)\n",
    "ax = sns.heatmap(data_heatmap, center=0, vmin=0, vmax=50, cmap='Reds')\n",
    "ax.xaxis.tick_top()\n",
    "ax.xaxis.set_label_position('top')\n",
    "plt.xticks(rotation=90)\n",
    "plt.savefig('heatmap.png')"
   ]
  },
  {
   "cell_type": "code",
   "execution_count": 54,
   "id": "b4dff441",
   "metadata": {},
   "outputs": [],
   "source": [
    "ntop = 1000\n",
    "NY_data_scores[:ntop].to_csv('NY_data_scores.csv')\n",
    "data_zs_scores[:ntop].to_csv('data_zs_scores.csv')"
   ]
  }
 ],
 "metadata": {
  "kernelspec": {
   "display_name": "Python 3 (ipykernel)",
   "language": "python",
   "name": "python3"
  },
  "language_info": {
   "codemirror_mode": {
    "name": "ipython",
    "version": 3
   },
   "file_extension": ".py",
   "mimetype": "text/x-python",
   "name": "python",
   "nbconvert_exporter": "python",
   "pygments_lexer": "ipython3",
   "version": "3.9.7"
  }
 },
 "nbformat": 4,
 "nbformat_minor": 5
}
